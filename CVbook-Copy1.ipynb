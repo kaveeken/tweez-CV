{
 "cells": [
  {
   "cell_type": "markdown",
   "metadata": {},
   "source": [
    "# Bulk analysis of constant velocity experiments\n",
    "In this notebook we take a large number of constant velocity traces and inspect each of them for:\n",
    "- Unfolding events\n",
    "- Experimental errors\n",
    "  - Multiple tethers\n",
    "  - Bead loss\n",
    "\n",
    "After which we determine the contour lengths of unfolded domains as well as their unfolding forces, by fitting each curve with Odijk and Marko-Siggia models (for DNA handles and unfolded protein respectively).\n",
    "\n",
    "The script is designed to be run in order and may break otherwise.\n",
    "For more technical details, see the files that are imported. \n",
    "Specifically ```curve.py``` contains the code used in the analysis steps and includes some documentation."
   ]
  },
  {
   "cell_type": "code",
   "execution_count": 2,
   "metadata": {},
   "outputs": [],
   "source": [
    "import lumicks.pylake as lk\n",
    "import numpy as np\n",
    "from matplotlib import pyplot as plt\n",
    "\n",
    "from curve import Curve"
   ]
  },
  {
   "cell_type": "markdown",
   "metadata": {},
   "source": [
    "## Defining models\n",
    "\n",
    "Here we define our models. As long as the below estimates correspond, you should be able to change these. The name strings (```'handles'``` and ```'protein'```) feature as part of parameter names and these should stay consistent."
   ]
  },
  {
   "cell_type": "code",
   "execution_count": 3,
   "metadata": {},
   "outputs": [],
   "source": [
    "# these dont have to be build functions, can just be model objects\n",
    "def build_handles_model():\n",
    "    return lk.inverted_odijk('handles') + lk.force_offset('handles')\n",
    "def build_composite_model():\n",
    "    comp_wrt_f = lk.odijk('handles') + lk.inverted_marko_siggia_simplified('protein')\n",
    "    return comp_wrt_f.invert(interpolate = True, \n",
    "                             independent_min = 0,\n",
    "                             independent_max = 90) + lk.force_offset('handles')"
   ]
  },
  {
   "cell_type": "markdown",
   "metadata": {},
   "source": [
    "## Providing estimates"
   ]
  },
  {
   "cell_type": "markdown",
   "metadata": {},
   "source": [
    "Here we provide some initial guesses for the model parameters in a dictionary format.\n",
    "\n",
    "For each parameter, the possible entries are ```'value'```, ```'upper_bound'```, ```'lower_bound'``` and ```'fixed'```, where the latter fixes the parameter value to that in the 'value' field."
   ]
  },
  {
   "cell_type": "code",
   "execution_count": 4,
   "metadata": {},
   "outputs": [],
   "source": [
    "from build_config import bp2cl\n",
    "\n",
    "handle_estimates = \\\n",
    "    {'handles/Lp':  # DNA handle persistence length (nm)\n",
    "      {'value': 15,  # initial estimate\n",
    "       'upper_bound': 100,  # very wide bounds?\n",
    "       'lower_bound': 0.0},\n",
    "     'handles/Lc':  # contour length (um)\n",
    "      {'value': 0.3},#bp2cl(1040)},  # bp2cl generates a contour length from a number of basepairs.\n",
    "     'handles/St':  # stretch modulus (pN)\n",
    "      {'value': 300,\n",
    "       'lower_bound': 250},\n",
    "     'handles/f_offset':  # force offset (pN)\n",
    "      {'value': 0,\n",
    "       'upper_bound': 6,\n",
    "       'lower_bound': -6,\n",
    "       'fixed': True}  # if True, the parameter is fixed to the current 'value' field.\n",
    "    }                 # here we use this entry to turn off the force offset included in the model\n",
    "protein_estimates = \\\n",
    "     {'protein/Lp':  # unfolded protein persistence length (nm)\n",
    "      {'value': 0.7,\n",
    "      'upper_bound': 1.0,\n",
    "      'lower_bound': 0.6,\n",
    "      'fixed': False},\n",
    "     'protein/Lc':  # contour length (um)\n",
    "      {'value': 0.001,\n",
    "       'fixed': False}\n",
    "     }"
   ]
  },
  {
   "cell_type": "markdown",
   "metadata": {},
   "source": [
    "## Providing data\n",
    "Each separate pulling curve will be put in a ```Curve``` object.\n",
    "This means for each pull, you will need to supply:\n",
    "- an identifier string\n",
    "- distance data (a 1d numpy array or something similar, like a list)\n",
    "- force data (same)\n",
    "\n",
    "This assumes the force and distance data describe the entire pull (extension, stationary, return).\n",
    "If possible, also supply only the extension part of the curve, with the ```pull_d``` and ```pull_f``` arguments\n",
    "(this is a bit messy, should probably change the way we handle this).\n",
    "\n",
    "For this script, each ```Curve``` object should be put in a dictionary called ```fdcurves```.\n",
    "This should look something like the following:\n",
    "```\n",
    "fdcurves = {'curve_01': Curve('curve_01', dist_data_full, force_data_full, \n",
    "                               pull_d=dist_data_pull, pull_f=force_data_pull)\n",
    "            'curve_02': Curve('curve_02', ...),\n",
    "            ...}                               \n",
    "```"
   ]
  },
  {
   "cell_type": "code",
   "execution_count": 5,
   "metadata": {},
   "outputs": [],
   "source": [
    "## example:\n",
    "# fdcurves = {}\n",
    "# from some_file_with_data import many_distance_series, many_force_series\n",
    "# for i in range(len(many_distances)):\n",
    "#     identifier = 'my_curve_' + str(i)\n",
    "#     fdcurves[identifier] = Curve(identifier, many_distance_series[i], many_force_series[i])"
   ]
  },
  {
   "cell_type": "code",
   "execution_count": 6,
   "metadata": {},
   "outputs": [
    {
     "name": "stdout",
     "output_type": "stream",
     "text": [
      "<KeysViewHDF5 ['Bead diameter', 'Bead position', 'Calibration', 'Diagnostics', 'Distance', 'Force HF', 'Force LF', 'Force clamp', 'Info wave', 'Marker', 'Piezo Calibration', 'Power controls', 'Temperature', 'Tracking Match Score', 'Trap position']>\n",
      "<KeysViewHDF5 ['Distance 1', 'Distance 2', 'Piezo Distance']>\n"
     ]
    },
    {
     "data": {
      "text/plain": [
       "[<matplotlib.lines.Line2D at 0x7fbf15e9d460>]"
      ]
     },
     "execution_count": 6,
     "metadata": {},
     "output_type": "execute_result"
    },
    {
     "data": {
      "image/png": "[encoded data removed]",
      "text/plain": [
       "<Figure size 432x288 with 1 Axes>"
      ]
     },
     "metadata": {
      "needs_background": "light"
     },
     "output_type": "display_data"
    }
   ],
   "source": [
    "import h5py\n",
    "data = h5py.File('/home/kris/proj/.data/tweez/yhsp2.h5', 'r')\n",
    "\n",
    "# getting familiar with the data:\n",
    "print(data.keys())  # show groups of measurements measurements\n",
    "print(data['Distance'].keys())  # show the specific measurements for the distance group\n",
    "\n",
    "# accessing the data:\n",
    "distance = data['Distance']['Piezo Distance'][:]  # take the distance data in a new variable\n",
    "force = data['Force HF']['Force 1x'][:]  # these [:] tell python to 'translate' to arrays, idk why this is needed\n",
    "\n",
    "plt.plot(force[::10000])  # this [] stuff is called indexing, \n",
    "                        # you can say v[i:j] to get a new vector that has the elements of vector v between i and j\n",
    "                        # [::k] means you take every k'th element. ([i:j:k] from i to j take every k'th)\n",
    "                        # we do that here because plotting the huge amount of points normally is a bit wasteful"
   ]
  },
  {
   "cell_type": "code",
   "execution_count": 7,
   "metadata": {},
   "outputs": [
    {
     "data": {
      "text/plain": [
       "<matplotlib.lines.Line2D at 0x7fbf0ddfff70>"
      ]
     },
     "execution_count": 7,
     "metadata": {},
     "output_type": "execute_result"
    },
    {
     "data": {
      "image/png": "[encoded data removed]",
      "text/plain": [
       "<Figure size 432x288 with 1 Axes>"
      ]
     },
     "metadata": {
      "needs_background": "light"
     },
     "output_type": "display_data"
    }
   ],
   "source": [
    "# to zoom in somewhere:\n",
    "hundredth = len(force) // 100  # slightly more convenient way to select parts of your data\n",
    "plt.plot(force[5*hundredth:10*hundredth])\n",
    "# this will be a bit annoying to search through. It's possible to make a little interactive bit to make this easier.\n",
    "\n",
    "# if we see something we like\n",
    "# we can estimate roughly where that happens\n",
    "first_index = 900000 # I think the first pull starts around 0.9e6\n",
    "last_index = 1200000\n",
    "top_index = 1010000  # we need to specify the pulling part of the data because of a bug\n",
    "plt.axvline(first_index) # plot a vertical line to check\n",
    "plt.axvline(last_index)\n",
    "plt.axvline(top_index)\n",
    "\n",
    "# seems about right"
   ]
  },
  {
   "cell_type": "code",
   "execution_count": 8,
   "metadata": {},
   "outputs": [],
   "source": [
    "# now to add the data\n",
    "actual_first_index = first_index + 5 * hundredth\n",
    "actual_last_index = last_index + 5 * hundredth\n",
    "actual_top_index = top_index + 5 * hundredth\n",
    "my_distance = distance[actual_first_index:actual_last_index]\n",
    "my_force = force[actual_first_index:actual_last_index]\n",
    "\n",
    "my_pull_distance = distance[actual_first_index:actual_top_index]\n",
    "my_pull_force = force[actual_first_index:actual_top_index]\n",
    "\n",
    "fdcurves = {}\n",
    "fdcurves['my_curve'] = Curve('my_curve', my_distance, my_force, \n",
    "                             pull_d=my_pull_distance, pull_f=my_pull_force)"
   ]
  },
  {
   "cell_type": "markdown",
   "metadata": {},
   "source": [
    "### For some specific large sets of data, we can split up and enter data automatically\n",
    "In that case run this next cell, which uses the ```autosplit``` function.\n",
    "The argument it takes is the path to your data file (here ```'/home/kris/proj/.data/tweez/yhsp2.h5'```).\n",
    "\n",
    "The function may take a while.\n",
    "It also spits out a bunch of nonsense you can ignore (this is true for many other cells as well and should be removed in the future)."
   ]
  },
  {
   "cell_type": "code",
   "execution_count": null,
   "metadata": {},
   "outputs": [],
   "source": [
    "import h5py\n",
    "from autosplit import autosplit\n",
    "\n",
    "split_curves = autosplit('/home/kris/proj/.data/tweez/yhsp2.h5')\n",
    "\n",
    "fdcurves = {}  # clear fdcurces\n",
    "for key, curve in split_curves.items():\n",
    "    fdcurves[key] = Curve(key, *[curve[dname]\n",
    "                                for dname in ['full_dist', 'full_force',\n",
    "                                              'pull_dist', 'pull_force',\n",
    "                                              'rlx_dist', 'rlx_force']])"
   ]
  },
  {
   "cell_type": "markdown",
   "metadata": {},
   "source": [
    "## Bead loss errors\n",
    "Data featuring force suddenly dropping to zero can dramatically slow down the event-finding and fitting steps, so we filter those out first. Other error-finding operations depend on the events found below and will happen later.\n",
    "\n",
    "This has missed cases in the past. You have an opportunity to verify on the next step."
   ]
  },
  {
   "cell_type": "code",
   "execution_count": 8,
   "metadata": {},
   "outputs": [
    {
     "name": "stdout",
     "output_type": "stream",
     "text": [
      "my_curve\n"
     ]
    }
   ],
   "source": [
    "lost_bead_fdcurves = {}\n",
    "for curve_id, curve in fdcurves.items():\n",
    "    if curve.filter_bead_loss(handle_contour = handle_estimates['handles/Lc']['value']):\n",
    "        lost_bead_fdcurves[curve_id] = curve\n",
    "for curve_id in lost_bead_fdcurves.keys():\n",
    "    print(curve_id)\n",
    "    fdcurves.pop(curve_id)"
   ]
  },
  {
   "cell_type": "markdown",
   "metadata": {},
   "source": [
    "## Event-finding\n",
    "Here we try to find unfolding events, using the ```Curve.find_events()``` function.\n",
    "If the supplied data did not have separate extension curves and is of the entire pull (extension, stationary, return),\n",
    "this part will first split out the extension parts. \n",
    "This is already done if you used the autosplit way of entering data.\n",
    "\n",
    "Curves are then split into 'legs' of datapoints between events, and those legs are used to fit our different models. \n",
    "The ```SHOW_PLOTS``` variable determines if we plot each curve, showing the different events and legs (green: legs, orange: unfolding events).\n",
    "Large numbers of plots can use a lot of resources (in memory: you might get a warning about it), but can be good to verify if the curves look like they should.\n",
    "\n",
    "```curve.find_events(..., splines=True)``` is better at finding small events, but you may want to check for false positives. ```splines=False``` is bad at small events but does not find false positives."
   ]
  },
  {
   "cell_type": "code",
   "execution_count": null,
   "metadata": {
    "scrolled": true
   },
   "outputs": [],
   "source": [
    "SHOW_PLOTS = True\n",
    "%matplotlib inline\n",
    "\n",
    "for curve in fdcurves.values():\n",
    "    #print(curve.identifier)\n",
    "    #curve.find_events(DEBUG=False, handle_contour = handle_estimates['handles/Lc']['value'], splines=False)\n",
    "    curve.find_events(DEBUG=False, handle_contour=False, splines=False)\n",
    "    #print(curve.top)\n",
    "    if SHOW_PLOTS:\n",
    "        curve.plot_events()\n",
    "# plot force over time (or number of measurements)\n",
    "# green: fitted leg, orange: unfold event, red: return/stationary point\n"
   ]
  },
  {
   "cell_type": "markdown",
   "metadata": {},
   "source": [
    "Here, curves where no unfolding events were found will be filtered out.\n",
    "\n",
    "If you saw any curve above that did show an unfolding event, but looked suspicious, you can choose to filter it out yourself.\n",
    "\n",
    "To hand-remove curves, change the ```my_filter``` list to include the identifiers (plot titles above) of the curves you want removed.\n",
    "\n",
    "Later on, if something breaks, it should be possible to see which curve is the culprit (curve ids are printed at each step).\n",
    "You can return here and add that curve to your filter."
   ]
  },
  {
   "cell_type": "code",
   "execution_count": null,
   "metadata": {},
   "outputs": [],
   "source": [
    "# example:\n",
    "# my_filter = ['curve_05', 'curve_12']\n",
    "my_filter = []\n",
    "for curve_id in my_filter:\n",
    "    fdcurves.pop(curve_id)\n",
    "\n",
    "no_unfolds = {}\n",
    "for curve_id, curve in fdcurves.items():\n",
    "    if not curve.unfolds.any(): #or not curve_id == 'split_curve9':\n",
    "        no_unfolds[curve_id] = curve  \n",
    "for curve_id in no_unfolds.keys():\n",
    "    print(curve_id)\n",
    "    fdcurves.pop(curve_id)"
   ]
  },
  {
   "cell_type": "code",
   "execution_count": null,
   "metadata": {},
   "outputs": [],
   "source": [
    "# Print out unfolding events\n",
    "# for curve_id, curve in fdcurves.items():\n",
    "#    print(curve_id)\n",
    "#     #print(curve.top)\n",
    "#     print(curve.unfolds)"
   ]
  },
  {
   "cell_type": "markdown",
   "metadata": {},
   "source": [
    "## Error-finding\n",
    "##### Multiple tethers\n",
    "We filter multiple tethers comparison of the model as given in the estimates, with exaggerated parameters or data. The tests we perform include:\n",
    "- A doubled persistence length\n",
    "- A halved contour length\n",
    "- Halved force data\n",
    "- Doubled distance data\n",
    "\n",
    "These should in theory test the single-tether case against the double-tether case. For a greater number of tethers we assume a double-tether model would fit better than a single-tether one. We compare the resulting BICs to determine pass or fail. We also compute Bayes factors for relative likelihood comparisons, but those turn out rather extreme.\n",
    "\n",
    "Doubling the persistence length yields false positives and does not seem to be a good way to approximate a double tether. Some higher factor would probably work but for now we can just ignore that test.\n",
    "\n",
    "We may want to hide some of this code behind an import\n",
    "\n",
    "Halving contour length appears functionally identical to doubling the distance data, so we can do away with one.\n",
    "# This doesn't really seem to work so take it with a grain of salt.\n",
    "The cell will spit out a lot of text. \n",
    "If it shows any ```True```s that means it thinks you have a multiple tether.\n",
    "The doubled persistence length method seems to be the only one to actually work, but gives false positives as well.\n",
    "You may want to fiddle around with the exact values: \n",
    "perhaps some other factor of the initially estimated persistence length works better."
   ]
  },
  {
   "cell_type": "code",
   "execution_count": null,
   "metadata": {},
   "outputs": [],
   "source": [
    "from copy import deepcopy\n",
    "\n",
    "original = handle_estimates\n",
    "double_Lp = deepcopy(original)\n",
    "half_Lc = deepcopy(original)\n",
    "double_Lp['handles/Lp']['value'] = original['handles/Lp']['value'] * 2\n",
    "half_Lc['handles/Lc']['value'] = original['handles/Lc']['value'] / 2\n",
    "\n",
    "test_estimates = {'original': original, 'double_Lp': double_Lp, \n",
    "                  'half_Lc': half_Lc, 'half_force': original,\n",
    "                  'double_dist': original}\n",
    "\n",
    "for curve in fdcurves.values():\n",
    "    print(curve.identifier)\n",
    "    curve.filter_tethers(build_handles_model(), test_estimates)"
   ]
  },
  {
   "cell_type": "markdown",
   "metadata": {},
   "source": [
    "## Fitting\n",
    "\n",
    "Here we fit our models. We first define fits for each unfolding event, and proliferate a single fit of the DNA handles parameters to each of them. After that, we fit the remaining protein parameters with the legs we defined before. The third cell draws plots and shows parameter summaries for each curve.\n",
    "\n",
    "This first one just shows the different legs. If one of them is empty it will break on the fitting steps."
   ]
  },
  {
   "cell_type": "code",
   "execution_count": null,
   "metadata": {},
   "outputs": [],
   "source": [
    "for curve in fdcurves.values():\n",
    "    print(curve.identifier, curve.legs)"
   ]
  },
  {
   "cell_type": "code",
   "execution_count": null,
   "metadata": {},
   "outputs": [],
   "source": [
    "#fdcurves.pop('split_curve4')\n",
    "#fdcurves.pop('split_curve9')\n",
    "#fdcurves.pop('split_curve5')\n",
    "\n",
    "for curve in fdcurves.values():\n",
    "    print(curve.identifier)\n",
    "    curve.initialize_fits(build_handles_model(),\n",
    "                         build_composite_model(),\n",
    "                         handle_estimates)"
   ]
  },
  {
   "cell_type": "code",
   "execution_count": null,
   "metadata": {},
   "outputs": [],
   "source": [
    "# some fits may take a while. should finish though\n",
    "for curve_id, curve in fdcurves.items():\n",
    "    print(curve_id)\n",
    "    curve.fit_composites(protein_estimates)"
   ]
  },
  {
   "cell_type": "code",
   "execution_count": null,
   "metadata": {},
   "outputs": [],
   "source": [
    "%matplotlib inline\n",
    "for curve in fdcurves.values():\n",
    "    curve.plot_fits()\n",
    "    plt.show()\n",
    "    curve.print_fit_params()"
   ]
  },
  {
   "cell_type": "markdown",
   "metadata": {},
   "source": [
    "#### Computing unfolding forces\n",
    "We compute the force for each unfolding event by simulating the fitted model to the distance slightly before the unfolding event. This part is lacking an error estimation."
   ]
  },
  {
   "cell_type": "code",
   "execution_count": null,
   "metadata": {},
   "outputs": [],
   "source": [
    "for curve in fdcurves.values():\n",
    "    curve.compute_unfold_forces(build_handles_model(), build_composite_model())"
   ]
  },
  {
   "cell_type": "markdown",
   "metadata": {},
   "source": [
    "#### Result summary table\n",
    "Prints a summary table containing fitted contour length, persistence length and unfolding force for each unfolding domain. Could be prettier.\n",
    "Needs to be changed to also write to file."
   ]
  },
  {
   "cell_type": "code",
   "execution_count": null,
   "metadata": {},
   "outputs": [],
   "source": [
    "# score and/or rank by fit quality\n",
    "\n",
    "# make a format string for the column widths\n",
    "largest_id_len = max([len(id) for id in fdcurves.keys()])\n",
    "row_format = f'{{:<{largest_id_len + 1}}}| {{:<5}}| {{:<9}}| {{:<9}}| {{:<9}}| {{}}'\n",
    "\n",
    "print(row_format.format('Curve', 'fold', 'Lc (um)', 'Lp (nm)', 'Fu (pN)',\n",
    "                        'failed tests'))\n",
    "for curve_id, curve in fdcurves.items():\n",
    "    curve.print_result_rows(row_format)\n",
    "\n",
    "if lost_bead_fdcurves:\n",
    "    print('\\nBead losses for curves', [curve_id for curve_id in\n",
    "                                       lost_bead_fdcurves.keys()])"
   ]
  },
  {
   "cell_type": "code",
   "execution_count": null,
   "metadata": {},
   "outputs": [],
   "source": []
  }
 ],
 "metadata": {
  "kernelspec": {
   "display_name": "Python 3",
   "language": "python",
   "name": "python3"
  },
  "language_info": {
   "codemirror_mode": {
    "name": "ipython",
    "version": 3
   },
   "file_extension": ".py",
   "mimetype": "text/x-python",
   "name": "python",
   "nbconvert_exporter": "python",
   "pygments_lexer": "ipython3",
   "version": "3.8.6"
  },
  "name": "CVbook.ipynb"
 },
 "nbformat": 4,
 "nbformat_minor": 5
}
