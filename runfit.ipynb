{
 "cells": [
  {
   "cell_type": "code",
   "execution_count": 2,
   "id": "green-zimbabwe",
   "metadata": {},
   "outputs": [],
   "source": [
    "import lumicks.pylake as lk\n",
    "import numpy as np\n",
    "from matplotlib import pyplot as plt\n",
    "\n",
    "from curve import Curve"
   ]
  },
  {
   "cell_type": "code",
   "execution_count": 3,
   "id": "square-algorithm",
   "metadata": {},
   "outputs": [],
   "source": [
    "# these dont have to be build functions anymore, can just be model objects\n",
    "def build_handles_model():\n",
    "    return lk.inverted_odijk('handles') + lk.force_offset('handles')\n",
    "def build_composite_model():\n",
    "    comp_wrt_f = lk.odijk('handles') + lk.inverted_marko_siggia_simplified('protein')\n",
    "    return comp_wrt_f.invert(interpolate = True, \n",
    "                             independent_min = 0,\n",
    "                             independent_max = 90) + lk.force_offset('handles')"
   ]
  },
  {
   "cell_type": "code",
   "execution_count": 4,
   "id": "conscious-reform",
   "metadata": {},
   "outputs": [],
   "source": [
    "from build_config import bp2cl\n",
    "\n",
    "handle_estimates = \\\n",
    "    {'handles/Lp':  # DNA handle persistence length (nm)\n",
    "      {'value': 15,  # initial estimate\n",
    "       'upper_bound': 100,  # very wide bounds?\n",
    "       'lower_bound': 10},\n",
    "     'handles/Lc':  # contour length (um)\n",
    "      {'value': 0.3},#bp2cl(1040)},  # bp2cl generates a contour length from a number of basepairs.\n",
    "     'handles/St':  # stretch modulus (pN)\n",
    "      {'value': 300,\n",
    "       'lower_bound': 200},  # was 250 200 to 600 is acceptable\n",
    "     'handles/f_offset':  # force offset (pN)\n",
    "      {'value': 0,\n",
    "       'upper_bound': 6,\n",
    "       'lower_bound': -6,\n",
    "       'fixed': False}  # if True, the parameter is fixed to the current 'value' field.\n",
    "    }                 # here we use this entry to turn off the force offset included in the model\n",
    "protein_estimates = \\\n",
    "     {'protein/Lp':  # unfolded protein persistence length (nm)\n",
    "      {'value': 0.7,\n",
    "      'upper_bound': 1.0,\n",
    "      'lower_bound': 0.6,\n",
    "      'fixed': False},\n",
    "     'protein/Lc':  # contour length (um)\n",
    "      {'value': 0.001,\n",
    "       'fixed': False}\n",
    "     }"
   ]
  },
  {
   "cell_type": "code",
   "execution_count": 6,
   "id": "medium-sterling",
   "metadata": {},
   "outputs": [
    {
     "data": {
      "text/plain": [
       "[<matplotlib.lines.Line2D at 0x7ff4cf2c4400>]"
      ]
     },
     "execution_count": 6,
     "metadata": {},
     "output_type": "execute_result"
    },
    {
     "data": {
      "image/png": "[encoded data removed]",
      "text/plain": [
       "<Figure size 432x288 with 1 Axes>"
      ]
     },
     "metadata": {
      "needs_background": "light"
     },
     "output_type": "display_data"
    },
    {
     "data": {
      "image/png": "[encoded data removed]",
      "text/plain": [
       "<Figure size 432x288 with 1 Axes>"
      ]
     },
     "metadata": {
      "needs_background": "light"
     },
     "output_type": "display_data"
    }
   ],
   "source": [
    "datasets = [{'filename': '/home/kris/proj/.data/tweez/adk5_curve1.h5', 'curve_ids': ['adk5_curve1']},\n",
    "            {'filename': '/home/kris/proj/.data/tweez/adk5_curve2.h5', 'curve_ids': ['adk5_curve2']},\n",
    "            {'filename': '/home/kris/proj/.data/tweez/adk5_curve3.h5', 'curve_ids': ['adk5_curve3']}]\n",
    "adkurves = {}\n",
    "for dataset in datasets:\n",
    "    data = lk.File(dataset['filename'])\n",
    "    #print(data.fdcurves)\n",
    "    for curve_id in dataset['curve_ids']:\n",
    "        original = data.fdcurves[curve_id]\n",
    "        fdata = data.fdcurves[curve_id].f.data\n",
    "        ddata = data.fdcurves[curve_id].d.data\n",
    "        if True:\n",
    "            fdata = fdata[ddata > 0]\n",
    "            ddata = ddata[ddata > 0]\n",
    "        adkurves[curve_id] = Curve(curve_id, ddata, fdata)\n",
    "        # we don't need the id in two different place\n",
    "plt.plot(adkurves['adk5_curve3'].force_data)\n",
    "plt.axvline(1850)\n",
    "\n",
    "pull_force = adkurves['adk5_curve3'].force_data\n",
    "pull_dist = adkurves['adk5_curve3'].dist_data\n",
    "plt.figure()\n",
    "plt.plot(pull_dist)"
   ]
  },
  {
   "cell_type": "code",
   "execution_count": null,
   "id": "proved-personality",
   "metadata": {},
   "outputs": [],
   "source": [
    "from util import load_estimates, extract_estimates, thresholding_algo\n",
    "    \n",
    "def compute_bic(force, dist, ests):\n",
    "    fit = lk.FdFit(build_handles_model())\n",
    "    fit.add_data('slice', force, dist)\n",
    "    load_estimates(fit, ests)\n",
    "    bic = fit.bic\n",
    "    fit.fit()\n",
    "    return (bic, extract_estimates(fit))\n",
    "\n",
    "\n",
    "def group_continuous(indices):\n",
    "    groups = [[indices[0][0]]] # np.argwhere returns array of single-element arrays\n",
    "    current_group = 0\n",
    "    for index in indices[1:]:\n",
    "        index = index[0]\n",
    "        if index == groups[current_group][-1] + 1:\n",
    "            groups[current_group].append(index)\n",
    "        else:\n",
    "            groups.append([index])\n",
    "            current_group += 1\n",
    "    return groups\n",
    "\n",
    "\n",
    "def stupid_interp(data, len_factor):\n",
    "    interp_data = []\n",
    "    for point in data:\n",
    "        for replicate in range(len_factor):\n",
    "            interp_data.append(point)\n",
    "    return interp_data\n",
    "    \n",
    "    \n",
    "def zoom_unfold(force, dist, first_index, almost_peak, end_peak):\n",
    "    print(first_index, almost_peak, end_peak)\n",
    "    ref_fit = lk.FdFit(build_handles_model())\n",
    "    ref_fit.add_data('before', force[first_index:almost_peak], dist[first_index:almost_peak])\n",
    "    ref_fit.fit()\n",
    "    ests = extract_estimates(ref_fit)\n",
    "    bix = []\n",
    "    for index in range(almost_peak, end_peak):\n",
    "        (bic, ests) = compute_bic(force[first_index:index], dist[first_index:index], ests)\n",
    "        bix.append(bic)\n",
    "    peaksign = thresholding_algo(np.diff(bix), len(bix)// 2, 4., 0)['signals']\n",
    "    print('max dbic', np.argmax(np.diff(bix)))\n",
    "    #plt.plot(force)\n",
    "    #plt.figure()\n",
    "    #plt.plot(np.diff(bix))\n",
    "    return np.argmax(np.diff(bix)) + almost_peak\n",
    "    #return np.where(peaksign >= 1)[0] + almost_peak\n",
    "\n",
    "\n",
    "def running_fit(force, dist, first_index, last_index, slice_width):\n",
    "    slices = [slice(first_index, i * slice_width + slice_width) for i in range(first_index // slice_width,\n",
    "                                                                              last_index // slice_width)]\n",
    "    fit = lk.FdFit(build_handles_model())\n",
    "    fit.add_data('first', force[slices[0]], dist[slices[0]])\n",
    "    fit.fit()\n",
    "    ests = extract_estimates(fit)\n",
    "    bix = []\n",
    "    for slc in slices: # /online/ peak-finding?\n",
    "        (bic, ests) = compute_bic(force[slc], dist[slc], ests)\n",
    "        bix.append(bic)\n",
    "        \n",
    "    peaksign = thresholding_algo(np.diff(bix), len(bix) // 2, 4., 0)['signals']\n",
    "                                                    # these parameters are awkward\n",
    "    peaksign_interp = np.asarray(stupid_interp(peaksign, slice_width))\n",
    "    grouped_peak_signals = group_continuous(np.argwhere(peaksign_interp >= 1) + first_index)\n",
    "    exact_unfolds = []\n",
    "    for group in grouped_peak_signals:\n",
    "        exact_unfolds.append(zoom_unfold(force, dist, first_index, group[0] - slice_width, group[-1]))\n",
    "    print(exact_unfolds, len(groups))\n",
    "    return {'slices': slices, 'bix': bix, \n",
    "            'signals': peaksign, 'groups': grouped_peak_signals, \n",
    "            'unfolds': exact_unfolds}\n",
    "\n",
    "results = running_fit(pull_force, pull_dist, 800, 1850, 50)\n",
    "\n",
    "plt.plot(pull_force)\n",
    "for unfold in results['unfolds']:\n",
    "    plt.axvline(unfold)\n",
    "results['unfolds']\n",
    "print(results['groups'])\n",
    "plt.figure()\n",
    "plt.plot(pull_force[results['groups'][0]])"
   ]
  },
  {
   "cell_type": "code",
   "execution_count": 106,
   "id": "activated-recycling",
   "metadata": {},
   "outputs": [
    {
     "name": "stdout",
     "output_type": "stream",
     "text": [
      "[90]\n",
      "[0.34090909]\n"
     ]
    },
    {
     "ename": "TypeError",
     "evalue": "iteration over a 0-d array",
     "output_type": "error",
     "traceback": [
      "\u001b[0;31m---------------------------------------------------------------------------\u001b[0m",
      "\u001b[0;31mTypeError\u001b[0m                                 Traceback (most recent call last)",
      "\u001b[0;32m<ipython-input-106-5edfcf10c6f1>\u001b[0m in \u001b[0;36m<module>\u001b[0;34m\u001b[0m\n\u001b[1;32m     63\u001b[0m \u001b[0;34m\u001b[0m\u001b[0m\n\u001b[1;32m     64\u001b[0m \u001b[0mprint\u001b[0m\u001b[0;34m(\u001b[0m\u001b[0mcompute_max_dist\u001b[0m\u001b[0;34m(\u001b[0m\u001b[0;34m[\u001b[0m\u001b[0;36m30\u001b[0m\u001b[0;34m,\u001b[0m \u001b[0;36m40\u001b[0m\u001b[0;34m,\u001b[0m \u001b[0;36m50\u001b[0m\u001b[0;34m]\u001b[0m\u001b[0;34m,\u001b[0m \u001b[0;34m[\u001b[0m\u001b[0;36m0.01\u001b[0m\u001b[0;34m,\u001b[0m \u001b[0;36m0.02\u001b[0m\u001b[0;34m,\u001b[0m\u001b[0;36m0.03\u001b[0m\u001b[0;34m]\u001b[0m\u001b[0;34m,\u001b[0m \u001b[0mhandle_estimates\u001b[0m\u001b[0;34m,\u001b[0m \u001b[0mprotein_estimates\u001b[0m\u001b[0;34m)\u001b[0m\u001b[0;34m)\u001b[0m\u001b[0;34m\u001b[0m\u001b[0;34m\u001b[0m\u001b[0m\n\u001b[0;32m---> 65\u001b[0;31m \u001b[0mprint\u001b[0m\u001b[0;34m(\u001b[0m\u001b[0mcompute_unfold_dists\u001b[0m\u001b[0;34m(\u001b[0m\u001b[0;34m[\u001b[0m\u001b[0;36m30\u001b[0m\u001b[0;34m,\u001b[0m \u001b[0;36m40\u001b[0m\u001b[0;34m,\u001b[0m \u001b[0;36m50\u001b[0m\u001b[0;34m]\u001b[0m\u001b[0;34m,\u001b[0m \u001b[0;34m[\u001b[0m\u001b[0;36m0.01\u001b[0m\u001b[0;34m,\u001b[0m \u001b[0;36m0.02\u001b[0m\u001b[0;34m,\u001b[0m\u001b[0;36m0.03\u001b[0m\u001b[0;34m]\u001b[0m\u001b[0;34m,\u001b[0m \u001b[0mhandle_estimates\u001b[0m\u001b[0;34m,\u001b[0m \u001b[0mprotein_estimates\u001b[0m\u001b[0;34m)\u001b[0m\u001b[0;34m)\u001b[0m\u001b[0;34m\u001b[0m\u001b[0;34m\u001b[0m\u001b[0m\n\u001b[0m\u001b[1;32m     66\u001b[0m \u001b[0mplt\u001b[0m\u001b[0;34m.\u001b[0m\u001b[0mfigure\u001b[0m\u001b[0;34m(\u001b[0m\u001b[0;34m)\u001b[0m\u001b[0;34m\u001b[0m\u001b[0;34m\u001b[0m\u001b[0m\n\u001b[1;32m     67\u001b[0m \u001b[0mplt\u001b[0m\u001b[0;34m.\u001b[0m\u001b[0mplot\u001b[0m\u001b[0;34m(\u001b[0m\u001b[0mpull_dist\u001b[0m\u001b[0;34m)\u001b[0m\u001b[0;34m\u001b[0m\u001b[0;34m\u001b[0m\u001b[0m\n",
      "\u001b[0;32m<ipython-input-106-5edfcf10c6f1>\u001b[0m in \u001b[0;36mcompute_unfold_dists\u001b[0;34m(unfold_forces, cls, handle_estimates, protein_estimates)\u001b[0m\n\u001b[1;32m     21\u001b[0m         \u001b[0mload_estimates\u001b[0m\u001b[0;34m(\u001b[0m\u001b[0mfit\u001b[0m\u001b[0;34m,\u001b[0m \u001b[0mh_est\u001b[0m\u001b[0;34m)\u001b[0m\u001b[0;34m\u001b[0m\u001b[0;34m\u001b[0m\u001b[0m\n\u001b[1;32m     22\u001b[0m         \u001b[0mload_estimates\u001b[0m\u001b[0;34m(\u001b[0m\u001b[0mfit\u001b[0m\u001b[0;34m,\u001b[0m \u001b[0mest\u001b[0m\u001b[0;34m)\u001b[0m\u001b[0;34m\u001b[0m\u001b[0;34m\u001b[0m\u001b[0m\n\u001b[0;32m---> 23\u001b[0;31m         \u001b[0munfold_dists\u001b[0m\u001b[0;34m.\u001b[0m\u001b[0mappend\u001b[0m\u001b[0;34m(\u001b[0m\u001b[0mcm\u001b[0m\u001b[0;34m(\u001b[0m\u001b[0mforce\u001b[0m\u001b[0;34m,\u001b[0m \u001b[0mfit\u001b[0m\u001b[0;34m)\u001b[0m\u001b[0;34m)\u001b[0m\u001b[0;34m\u001b[0m\u001b[0;34m\u001b[0m\u001b[0m\n\u001b[0m\u001b[1;32m     24\u001b[0m     \u001b[0;32mreturn\u001b[0m \u001b[0munfold_dists\u001b[0m\u001b[0;34m\u001b[0m\u001b[0;34m\u001b[0m\u001b[0m\n\u001b[1;32m     25\u001b[0m \u001b[0;34m\u001b[0m\u001b[0m\n",
      "\u001b[0;32m~/.pyenv/versions/3.8.6/envs/tweez-3.8.6/lib/python3.8/site-packages/lumicks/pylake/fitting/model.py\u001b[0m in \u001b[0;36m__call__\u001b[0;34m(self, independent, params)\u001b[0m\n\u001b[1;32m    110\u001b[0m         \"\"\"\n\u001b[1;32m    111\u001b[0m         \u001b[0mindependent\u001b[0m \u001b[0;34m=\u001b[0m \u001b[0mnp\u001b[0m\u001b[0;34m.\u001b[0m\u001b[0masarray\u001b[0m\u001b[0;34m(\u001b[0m\u001b[0mindependent\u001b[0m\u001b[0;34m,\u001b[0m \u001b[0mdtype\u001b[0m\u001b[0;34m=\u001b[0m\u001b[0mnp\u001b[0m\u001b[0;34m.\u001b[0m\u001b[0mfloat64\u001b[0m\u001b[0;34m)\u001b[0m\u001b[0;34m\u001b[0m\u001b[0;34m\u001b[0m\u001b[0m\n\u001b[0;32m--> 112\u001b[0;31m         return self._raw_call(independent, np.asarray([params[name].value for name in self.parameter_names],\n\u001b[0m\u001b[1;32m    113\u001b[0m                                                       dtype=np.float64))\n\u001b[1;32m    114\u001b[0m \u001b[0;34m\u001b[0m\u001b[0m\n",
      "\u001b[0;32m~/.pyenv/versions/3.8.6/envs/tweez-3.8.6/lib/python3.8/site-packages/lumicks/pylake/fitting/model.py\u001b[0m in \u001b[0;36m_raw_call\u001b[0;34m(self, independent, param_vector)\u001b[0m\n\u001b[1;32m    437\u001b[0m     \u001b[0;32mdef\u001b[0m \u001b[0m_raw_call\u001b[0m\u001b[0;34m(\u001b[0m\u001b[0mself\u001b[0m\u001b[0;34m,\u001b[0m \u001b[0mindependent\u001b[0m\u001b[0;34m,\u001b[0m \u001b[0mparam_vector\u001b[0m\u001b[0;34m)\u001b[0m\u001b[0;34m:\u001b[0m\u001b[0;34m\u001b[0m\u001b[0;34m\u001b[0m\u001b[0m\n\u001b[1;32m    438\u001b[0m         \u001b[0mlhs_residual\u001b[0m \u001b[0;34m=\u001b[0m \u001b[0mself\u001b[0m\u001b[0;34m.\u001b[0m\u001b[0mlhs\u001b[0m\u001b[0;34m.\u001b[0m\u001b[0m_raw_call\u001b[0m\u001b[0;34m(\u001b[0m\u001b[0mindependent\u001b[0m\u001b[0;34m,\u001b[0m \u001b[0;34m[\u001b[0m\u001b[0mparam_vector\u001b[0m\u001b[0;34m[\u001b[0m\u001b[0mx\u001b[0m\u001b[0;34m]\u001b[0m \u001b[0;32mfor\u001b[0m \u001b[0mx\u001b[0m \u001b[0;32min\u001b[0m \u001b[0mself\u001b[0m\u001b[0;34m.\u001b[0m\u001b[0mlhs_params\u001b[0m\u001b[0;34m]\u001b[0m\u001b[0;34m)\u001b[0m\u001b[0;34m\u001b[0m\u001b[0;34m\u001b[0m\u001b[0m\n\u001b[0;32m--> 439\u001b[0;31m         \u001b[0mrhs_residual\u001b[0m \u001b[0;34m=\u001b[0m \u001b[0mself\u001b[0m\u001b[0;34m.\u001b[0m\u001b[0mrhs\u001b[0m\u001b[0;34m.\u001b[0m\u001b[0m_raw_call\u001b[0m\u001b[0;34m(\u001b[0m\u001b[0mindependent\u001b[0m\u001b[0;34m,\u001b[0m \u001b[0;34m[\u001b[0m\u001b[0mparam_vector\u001b[0m\u001b[0;34m[\u001b[0m\u001b[0mx\u001b[0m\u001b[0;34m]\u001b[0m \u001b[0;32mfor\u001b[0m \u001b[0mx\u001b[0m \u001b[0;32min\u001b[0m \u001b[0mself\u001b[0m\u001b[0;34m.\u001b[0m\u001b[0mrhs_params\u001b[0m\u001b[0;34m]\u001b[0m\u001b[0;34m)\u001b[0m\u001b[0;34m\u001b[0m\u001b[0;34m\u001b[0m\u001b[0m\n\u001b[0m\u001b[1;32m    440\u001b[0m \u001b[0;34m\u001b[0m\u001b[0m\n\u001b[1;32m    441\u001b[0m         \u001b[0;32mreturn\u001b[0m \u001b[0mlhs_residual\u001b[0m \u001b[0;34m+\u001b[0m \u001b[0mrhs_residual\u001b[0m\u001b[0;34m\u001b[0m\u001b[0;34m\u001b[0m\u001b[0m\n",
      "\u001b[0;32m~/.pyenv/versions/3.8.6/envs/tweez-3.8.6/lib/python3.8/site-packages/lumicks/pylake/fitting/model.py\u001b[0m in \u001b[0;36m_raw_call\u001b[0;34m(self, independent, param_vector)\u001b[0m\n\u001b[1;32m    511\u001b[0m                                                  lambda f_trial: self.model.derivative(f_trial, param_vector))\n\u001b[1;32m    512\u001b[0m         \u001b[0;32melse\u001b[0m\u001b[0;34m:\u001b[0m\u001b[0;34m\u001b[0m\u001b[0;34m\u001b[0m\u001b[0m\n\u001b[0;32m--> 513\u001b[0;31m             return invert_function(independent, 1.0, self.independent_min, self.independent_max,\n\u001b[0m\u001b[1;32m    514\u001b[0m                                    \u001b[0;32mlambda\u001b[0m \u001b[0mf_trial\u001b[0m\u001b[0;34m:\u001b[0m \u001b[0mself\u001b[0m\u001b[0;34m.\u001b[0m\u001b[0mmodel\u001b[0m\u001b[0;34m.\u001b[0m\u001b[0m_raw_call\u001b[0m\u001b[0;34m(\u001b[0m\u001b[0mf_trial\u001b[0m\u001b[0;34m,\u001b[0m \u001b[0mparam_vector\u001b[0m\u001b[0;34m)\u001b[0m\u001b[0;34m,\u001b[0m  \u001b[0;31m# Forward model\u001b[0m\u001b[0;34m\u001b[0m\u001b[0;34m\u001b[0m\u001b[0m\n\u001b[1;32m    515\u001b[0m                                    lambda f_trial: self.model.derivative(f_trial, param_vector))\n",
      "\u001b[0;32m~/.pyenv/versions/3.8.6/envs/tweez-3.8.6/lib/python3.8/site-packages/lumicks/pylake/fitting/detail/derivative_manipulation.py\u001b[0m in \u001b[0;36minvert_function\u001b[0;34m(d, initial, f_min, f_max, model_function, derivative_function, tol)\u001b[0m\n\u001b[1;32m     64\u001b[0m     \u001b[0mmanual_inversion\u001b[0m\u001b[0;34m,\u001b[0m \u001b[0m_\u001b[0m \u001b[0;34m=\u001b[0m \u001b[0minversion_functions\u001b[0m\u001b[0;34m(\u001b[0m\u001b[0mmodel_function\u001b[0m\u001b[0;34m,\u001b[0m \u001b[0mf_min\u001b[0m\u001b[0;34m,\u001b[0m \u001b[0mf_max\u001b[0m\u001b[0;34m,\u001b[0m \u001b[0mderivative_function\u001b[0m\u001b[0;34m,\u001b[0m \u001b[0mtol\u001b[0m\u001b[0;34m)\u001b[0m\u001b[0;34m\u001b[0m\u001b[0;34m\u001b[0m\u001b[0m\n\u001b[1;32m     65\u001b[0m \u001b[0;34m\u001b[0m\u001b[0m\n\u001b[0;32m---> 66\u001b[0;31m     \u001b[0;32mreturn\u001b[0m \u001b[0mmanual_inversion\u001b[0m\u001b[0;34m(\u001b[0m\u001b[0md\u001b[0m\u001b[0;34m,\u001b[0m \u001b[0minitial\u001b[0m\u001b[0;34m)\u001b[0m\u001b[0;34m\u001b[0m\u001b[0;34m\u001b[0m\u001b[0m\n\u001b[0m\u001b[1;32m     67\u001b[0m \u001b[0;34m\u001b[0m\u001b[0m\n\u001b[1;32m     68\u001b[0m \u001b[0;34m\u001b[0m\u001b[0m\n",
      "\u001b[0;32m~/.pyenv/versions/3.8.6/envs/tweez-3.8.6/lib/python3.8/site-packages/lumicks/pylake/fitting/detail/derivative_manipulation.py\u001b[0m in \u001b[0;36mmanual_inversion\u001b[0;34m(distances, initial_guess)\u001b[0m\n\u001b[1;32m     36\u001b[0m     \u001b[0;32mdef\u001b[0m \u001b[0mmanual_inversion\u001b[0m\u001b[0;34m(\u001b[0m\u001b[0mdistances\u001b[0m\u001b[0;34m,\u001b[0m \u001b[0minitial_guess\u001b[0m\u001b[0;34m)\u001b[0m\u001b[0;34m:\u001b[0m\u001b[0;34m\u001b[0m\u001b[0;34m\u001b[0m\u001b[0m\n\u001b[1;32m     37\u001b[0m         \u001b[0;34m\"\"\"Invert the dependent and independent variable for a list\"\"\"\u001b[0m\u001b[0;34m\u001b[0m\u001b[0;34m\u001b[0m\u001b[0m\n\u001b[0;32m---> 38\u001b[0;31m         \u001b[0;32mreturn\u001b[0m \u001b[0mnp\u001b[0m\u001b[0;34m.\u001b[0m\u001b[0marray\u001b[0m\u001b[0;34m(\u001b[0m\u001b[0;34m[\u001b[0m\u001b[0mfit_single\u001b[0m\u001b[0;34m(\u001b[0m\u001b[0mdistance\u001b[0m\u001b[0;34m,\u001b[0m \u001b[0minitial_guess\u001b[0m\u001b[0;34m)\u001b[0m \u001b[0;32mfor\u001b[0m \u001b[0mdistance\u001b[0m \u001b[0;32min\u001b[0m \u001b[0mdistances\u001b[0m\u001b[0;34m]\u001b[0m\u001b[0;34m)\u001b[0m\u001b[0;34m\u001b[0m\u001b[0;34m\u001b[0m\u001b[0m\n\u001b[0m\u001b[1;32m     39\u001b[0m \u001b[0;34m\u001b[0m\u001b[0m\n\u001b[1;32m     40\u001b[0m     \u001b[0;32mreturn\u001b[0m \u001b[0mmanual_inversion\u001b[0m\u001b[0;34m,\u001b[0m \u001b[0mfit_single\u001b[0m\u001b[0;34m\u001b[0m\u001b[0;34m\u001b[0m\u001b[0m\n",
      "\u001b[0;31mTypeError\u001b[0m: iteration over a 0-d array"
     ]
    },
    {
     "data": {
      "image/png": "[encoded data removed]",
      "text/plain": [
       "<Figure size 432x288 with 1 Axes>"
      ]
     },
     "metadata": {
      "needs_background": "light"
     },
     "output_type": "display_data"
    }
   ],
   "source": [
    "from copy import deepcopy\n",
    "\n",
    "def compute_unfold_dists(unfold_forces, cls, handle_estimates, protein_estimates):\n",
    "    comp_wrt_f = lk.odijk('handles') + lk.inverted_marko_siggia_simplified('protein') \\\n",
    "                                    + lk.force_offset('handles').invert()\n",
    "    hm = lk.odijk('handles') + lk.force_offset('handles').invert()\n",
    "    cm = comp_wrt_f\n",
    "    h_est = deepcopy(handle_estimates)\n",
    "    p_ests = [deepcopy(protein_estimates) for force in unfold_forces]\n",
    "    #hm = build_handles_model()\n",
    "    #cm = build_composite_model()\n",
    "    fits = [lk.FdFit(hm), *[lk.FdFit(hm,cm) for force in unfold_forces]]\n",
    "    fits[0].add_data('junk', [0,1], [0,1])\n",
    "    load_estimates(fits[0], h_est)\n",
    "    cl_total = 0\n",
    "    unfold_dists = []\n",
    "    for est,cl,fit,force in zip(p_ests,cls,fits[1:],unfold_forces):\n",
    "        cl_total += cl\n",
    "        est['protein/Lc']['value'] = cl_total\n",
    "        fit[cm].add_data('junk', [0,1], [0,1])\n",
    "        load_estimates(fit, h_est)\n",
    "        load_estimates(fit, est)\n",
    "        unfold_dists.append(cm(force, fit))\n",
    "    return unfold_dists\n",
    "        \n",
    "    \n",
    "def compute_max_dist(unfold_forces, cls, handle_estimates, protein_estimates):\n",
    "    comp_wrt_f = lk.odijk('handles') + lk.inverted_marko_siggia_simplified('protein')\n",
    "    hestimates = deepcopy(handle_estimates)\n",
    "    pestimates = deepcopy(protein_estimates)\n",
    "    pestimates['protein/Lc']['value'] = 0.001 #sum(cls)\n",
    "    fit = lk.FdFit(build_composite_model())\n",
    "    #junk = (np.linspace(0.28,0.3,100), np.linspace(0,20,100))\n",
    "    fit.add_data('junk', np.linspace(0.28,0.3,100), np.linspace(0,20,100))\n",
    "    load_estimates(fit, pestimates)\n",
    "    load_estimates(fit, handle_estimates)\n",
    "    coarse_dists = np.linspace(0.15, (sum(cls) + 0.3), 100)\n",
    "    coarse_force = build_composite_model()(coarse_dists, fit)\n",
    "    index = np.argwhere(coarse_force >= max(unfold_forces))[0]\n",
    "    plt.plot(coarse_dists * 100)\n",
    "    plt.plot(coarse_force)\n",
    "    print(index)\n",
    "    return coarse_dists[index]\n",
    "    \n",
    "def better_sim(unfold_forces, cls, handle_estimates_orig, protein_estimates_orig,\n",
    "              stds={'dist': 0.00195, 'force':0.105}):\n",
    "    model_h = build_handles_model()\n",
    "    model_c = build_composite_model()\n",
    "    fit = lk.FdFit(model_h,model_c)\n",
    "    fit[model_h].add_data('junk', *(np.linspace(0.28,0.3,100), np.linspace(0,20,100)))\n",
    "    fit[model_c].add_data('junk', *(np.linspace(0.28,0.3,100), np.linspace(0,20,100)))\n",
    "    \n",
    "    handle_estimates = deepcopy(handle_estimates_orig)\n",
    "    for param in handle_estimates.values():\n",
    "        param['fixed'] = True\n",
    "    protein_estimates = deepcopy(protein_estimates_orig)\n",
    "    for param in protein_estimates.values():\n",
    "        param['fixed'] = True\n",
    "        \n",
    "    #max_dist = \n",
    "    pull_dists = np.linspace(0.28,)\n",
    "    #for index, unfold_force in enumerate(unfold_forces)\n",
    "\n",
    "print(compute_max_dist([30, 40, 50], [0.01, 0.02,0.03], handle_estimates, protein_estimates))\n",
    "print(compute_unfold_dists([30, 40, 50], [0.01, 0.02,0.03], handle_estimates, protein_estimates))\n",
    "plt.figure()\n",
    "plt.plot(pull_dist)\n",
    "        "
   ]
  },
  {
   "cell_type": "code",
   "execution_count": 88,
   "id": "straight-drain",
   "metadata": {},
   "outputs": [
    {
     "name": "stdout",
     "output_type": "stream",
     "text": [
      "Fit\n",
      "  - Model: handles_with_protein_with_inv(handles)\n",
      "  - Equation:\n",
      "      d(f) = handles.Lc * (1 - (1/2)*sqrt(kT/(f*handles.Lp)) + f/handles.St) + argmin[d](norm((1/4) * (1 - (d/protein.Lc))**(-2) - (1/4) + (d/protein.Lc)-f*protein.Lp/kT)) + argmin[d](norm(handles.f_offset-f))\n",
      "\n",
      "  - Data sets:\n",
      "    - FitData(aaa, N=2)\n",
      "\n",
      "  - Fitted parameters:\n",
      "    Name                Value  Unit      Fitted      Lower bound    Upper bound\n",
      "    ----------------  -------  --------  --------  -------------  -------------\n",
      "    handles/Lp          40     [nm]      True                0            100\n",
      "    handles/Lc          16     [micron]  True                0            inf\n",
      "    handles/St        1500     [pN]      True                0            inf\n",
      "    kT                   4.11  [pN*nm]   False               0              8\n",
      "    protein/Lp          40     [nm]      True                0            100\n",
      "    protein/Lc          16     [micron]  True                0            inf\n",
      "    handles/f_offset     0.01  [pN]      True               -0.1            0.1\n",
      "Fit\n",
      "  - Model: handles_with_protein_with_inv(handles)\n",
      "  - Equation:\n",
      "      d(f) = handles.Lc * (1 - (1/2)*sqrt(kT/(f*handles.Lp)) + f/handles.St) + argmin[d](norm((1/4) * (1 - (d/protein.Lc))**(-2) - (1/4) + (d/protein.Lc)-f*protein.Lp/kT)) + argmin[d](norm(handles.f_offset-f))\n",
      "\n",
      "  - Data sets:\n",
      "    - FitData(aaa, N=2)\n",
      "\n",
      "  - Fitted parameters:\n",
      "    Name                Value  Unit      Fitted      Lower bound    Upper bound\n",
      "    ----------------  -------  --------  --------  -------------  -------------\n",
      "    handles/Lp         15      [nm]      True               10              100\n",
      "    handles/Lc          0.3    [micron]  True                0              inf\n",
      "    handles/St        300      [pN]      True              200              inf\n",
      "    kT                  4.11   [pN*nm]   False               0                8\n",
      "    protein/Lp          0.7    [nm]      True                0.6              1\n",
      "    protein/Lc          0.001  [micron]  True                0              inf\n",
      "    handles/f_offset    0      [pN]      True               -6                6\n"
     ]
    }
   ],
   "source": [
    "from simulate import gen_hm, gen_comp\n",
    "comp_wrt_f = lk.odijk('handles') + lk.inverted_marko_siggia_simplified('protein') + lk.force_offset('handles').invert()\n",
    "testfit = lk.FdFit(comp_wrt_f)\n",
    "testfit.add_data('aaa',[0,1],[0,2])\n",
    "print(testfit)\n",
    "load_estimates(testfit, handle_estimates)\n",
    "load_estimates(testfit, protein_estimates)\n",
    "print(testfit)\n",
    "\n",
    "def generate_fd(first_unf, cls, handle_estimates_orig, protein_estimates_orig,\n",
    "                stds={'dist': 0.00195, 'force': 0.105}):\n",
    "    model_h = gen_hm()\n",
    "    model_c = gen_comp()\n",
    "    fit = lk.FdFit(model_h, model_c)\n",
    "    junk = (np.linspace(0.28,0.3,100), np.linspace(0,20,100))\n",
    "    fit[model_h].add_data('junk', *junk)\n",
    "    fit[model_c].add_data('junk', *junk)\n",
    "\n",
    "    handle_estimates = deepcopy(handle_estimates_orig)\n",
    "    protein_estimates = deepcopy(protein_estimates_orig)\n",
    "    for param in handle_estimates.values():\n",
    "        param['fixed'] = True\n",
    "    for param in protein_estimates.values():\n",
    "        param['fixed'] = True\n",
    "    load_estimates(fit, handle_estimates)\n",
    "    load_estimates(fit, protein_estimates)\n",
    "    fit['protein/Lc'].value = cls[0]\n",
    "\n",
    "    unfold_dist = first_unf\n",
    "    stop_dist = unfold_dist + sum(cls)\n",
    "    print(stop_dist)\n",
    "    pull_dists = np.linspace(0.28, stop_dist, 2000)\n",
    "    distances = [pull_dists[pull_dists < unfold_dist]]\n",
    "    forces = [model_h(distances[0], fit)]\n",
    "    total_cl = 0\n",
    "    for index, cl in enumerate(cls):\n",
    "        newdist = pull_dists[pull_dists >= unfold_dist]\n",
    "        # print(len(newdist))\n",
    "        unfold_dist += cl\n",
    "        # print(index, cl, len(cls))\n",
    "        if index < len(cls) - 1:\n",
    "            newdist = newdist[newdist < unfold_dist]\n",
    "        distances.append(newdist)\n",
    "        total_cl += cl\n",
    "        fit['protein/Lc'].value = total_cl\n",
    "        newforce = model_c(newdist, fit)\n",
    "        forces.append(newforce)\n",
    "    stat_dists = np.zeros(500) + stop_dist\n",
    "    stat_forces = np.zeros(500) + model_c(stop_dist, fit)\n",
    "    distances.append(stat_dists)\n",
    "    forces.append(stat_forces)\n",
    "    relax_dists = np.linspace(stop_dist, 0.28, 2000) \n",
    "    relax_forces = model_c(relax_dists, fit)\n",
    "    distances.append(relax_dists)\n",
    "    forces.append(relax_forces)\n",
    "    concdists = np.concatenate(distances, axis=None)\n",
    "    concforces = np.concatenate(forces, axis=None)\n",
    "    noisy_dists = concdists + np.random.normal(0, stds['dist'], len(concdists))\n",
    "    noisy_forces = concforces + np.random.normal(0, stds['force'], len(concforces))\n",
    "    return (noisy_dists, noisy_forces)\n",
    "\n",
    "\n",
    "#gens = generate_fd(0.38, [0.020, 0.025, 0.035])\n",
    "\n",
    "# plt.figure(figsize=(8,14))\n",
    "# plt.subplot(2, 1, 1)\n",
    "# plt.plot(*gens, '.', c='tab:blue')\n",
    "# plt.subplot(2, 1, 2)\n",
    "# plt.plot(gens[1], '.', c='tab:blue')\n",
    "# plt.savefig('sim_test.png')\n"
   ]
  },
  {
   "cell_type": "code",
   "execution_count": 73,
   "id": "competent-drill",
   "metadata": {},
   "outputs": [
    {
     "name": "stdout",
     "output_type": "stream",
     "text": [
      "0.44\n"
     ]
    },
    {
     "data": {
      "text/plain": [
       "[<matplotlib.lines.Line2D at 0x7f451949f3a0>]"
      ]
     },
     "execution_count": 73,
     "metadata": {},
     "output_type": "execute_result"
    },
    {
     "data": {
      "image/png": "[encoded data removed]",
      "text/plain": [
       "<Figure size 432x288 with 1 Axes>"
      ]
     },
     "metadata": {
      "needs_background": "light"
     },
     "output_type": "display_data"
    },
    {
     "data": {
      "image/png": "[encoded data removed]",
      "text/plain": [
       "<Figure size 432x288 with 1 Axes>"
      ]
     },
     "metadata": {
      "needs_background": "light"
     },
     "output_type": "display_data"
    }
   ],
   "source": [
    "\n",
    "#from simulate import generate_fd\n",
    "sim_curve = [*generate_fd(0.38, [0.01, 0.02, 0.03], handle_estimates, protein_estimates)]\n",
    "plt.plot(sim_curve[0])\n",
    "plt.figure()\n",
    "plt.plot(sim_curve[1])"
   ]
  }
 ],
 "metadata": {
  "kernelspec": {
   "display_name": "Python 3",
   "language": "python",
   "name": "python3"
  },
  "language_info": {
   "codemirror_mode": {
    "name": "ipython",
    "version": 3
   },
   "file_extension": ".py",
   "mimetype": "text/x-python",
   "name": "python",
   "nbconvert_exporter": "python",
   "pygments_lexer": "ipython3",
   "version": "3.8.6"
  }
 },
 "nbformat": 4,
 "nbformat_minor": 5
}
